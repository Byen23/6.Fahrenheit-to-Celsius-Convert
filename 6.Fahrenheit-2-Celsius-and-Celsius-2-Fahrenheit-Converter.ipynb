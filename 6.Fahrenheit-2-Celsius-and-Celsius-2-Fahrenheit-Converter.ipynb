{
 "cells": [
  {
   "cell_type": "code",
   "execution_count": 1,
   "metadata": {
    "ExecuteTime": {
     "end_time": "2019-01-10T14:25:57.109214Z",
     "start_time": "2019-01-10T14:25:47.196484Z"
    }
   },
   "outputs": [
    {
     "name": "stdout",
     "output_type": "stream",
     "text": [
      "Enter a temperature in Fahrenheit: 25\n",
      "Temperature: 25.0 Fahrenheight = -3.888888888888889 C\n",
      "Enter a temperature in Celsius: 28\n",
      "Temperature: 28.0 Celsius = 82.4 F\n"
     ]
    }
   ],
   "source": [
    "#6th Program to be uploaded to github.\n",
    "''' This program converts temperature between Fahrenheit to Celsius,\n",
    "    and Converts Celsius to Fahrenheight.'''\n",
    "    \n",
    "'''Fahrenheit to Celsius formula:\n",
    "\n",
    "(°F - 32) x 5/9 = °C or in plain english, First subtract 32, then multiply by 5,\n",
    "then divide by 9.'''\n",
    "\n",
    "'''Celsius to Fahrenheit formula:\n",
    "\n",
    "(°C × 9/5) + 32 = °F or in plain English, Multiple by 9, then divide by 5, then\n",
    "add 32.'''\n",
    "\n",
    "#Converts Celsius to Fahrenheit\n",
    "Fahrenheit = float(input(\"Enter a temperature in Fahrenheit: \"))\n",
    "\n",
    "Celsius = (Fahrenheit - 32) * 5.0/9.0\n",
    "print(\"Temperature:\", Fahrenheit,\"Fahrenheight =\", Celsius,\"C\")\n",
    "\n",
    "# Cnverts Fahrenheit to Celsius\n",
    "Celsius = float(input(\"Enter a temperature in Celsius: \"))\n",
    "\n",
    "Fahrenheit = 9.0/5.0 * Celsius + 32\n",
    "print(\"Temperature:\", Celsius, \"Celsius =\", Fahrenheit, \"F\")\n"
   ]
  }
 ],
 "metadata": {
  "kernelspec": {
   "display_name": "Python 3",
   "language": "python",
   "name": "python3"
  },
  "language_info": {
   "codemirror_mode": {
    "name": "ipython",
    "version": 3
   },
   "file_extension": ".py",
   "mimetype": "text/x-python",
   "name": "python",
   "nbconvert_exporter": "python",
   "pygments_lexer": "ipython3",
   "version": "3.6.7"
  }
 },
 "nbformat": 4,
 "nbformat_minor": 2
}
